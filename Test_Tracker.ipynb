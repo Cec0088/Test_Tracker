{
 "cells": [
  {
   "cell_type": "markdown",
   "id": "9f8e7040-0823-4899-aaac-568c03715af0",
   "metadata": {},
   "source": [
    "# Test Tracker"
   ]
  },
  {
   "cell_type": "code",
   "execution_count": 1,
   "id": "0e35c901-3a61-4e8d-a6fa-d14fa0dde3e2",
   "metadata": {},
   "outputs": [],
   "source": [
    "#importing modules/packages \n",
    "import csv"
   ]
  },
  {
   "cell_type": "code",
   "execution_count": 2,
   "id": "78018233-97eb-4c43-b1a0-9b2571acfbea",
   "metadata": {},
   "outputs": [],
   "source": [
    "#saves current user input to corresponding csv file.\n",
    "def write_to_file(file_name, data):\n",
    "    contents = []\n",
    "    with open(file_name, \"a+\") as file:\n",
    "        writer = csv.writer(file)\n",
    "        writer.writerow([data])"
   ]
  },
  {
   "cell_type": "code",
   "execution_count": 3,
   "id": "f5910c17-cfb9-4672-9d6d-6e5c56511ea1",
   "metadata": {},
   "outputs": [],
   "source": [
    "#formating the csv file beacuse its not inputing a intger as input :(\n",
    "def format_data(file_name):\n",
    "    container = []\n",
    "    with open(file_name, \"r\") as file:   \n",
    "        data = csv.reader(file)\n",
    "        for row in data:\n",
    "            try:\n",
    "                num = int(row[0])\n",
    "                container.append(num)\n",
    "            except:\n",
    "                pass\n",
    "    return container"
   ]
  },
  {
   "cell_type": "code",
   "execution_count": 9,
   "id": "1ecb336f-72dc-47fb-853c-900030c88380",
   "metadata": {},
   "outputs": [],
   "source": [
    "# looks at highest, lowest, current and last result and compares them\n",
    "def anlayse_data(file_name):\n",
    "    results = format_data(file_name)\n",
    "    print(\"This is all your results to date: \")\n",
    "    print(results)\n",
    "\n",
    "    current = results[-1]   \n",
    "    print(\"This is your score now: \", current)\n",
    "    last = results[-2]\n",
    "    print(\"This is your previous score: \", last)\n",
    "    highest = max(results)\n",
    "    print(\"This is your highest score: \", highest)\n",
    "    lowest = min(results)\n",
    "    print(\"This is your lowest score: \", lowest)\n",
    "    \n",
    "    print(\"Let's guage your performance?\")\n",
    "    if current > last:\n",
    "        print(\"Your improving,keep it up\")\n",
    "    elif current < last:\n",
    "        print(\"You will need to do better next time\")\n",
    "    elif current == last:\n",
    "        print(\"your score stayed the same, are revising enough\")"
   ]
  },
  {
   "cell_type": "code",
   "execution_count": 10,
   "id": "94959198-dccf-4c59-a762-497704a707b7",
   "metadata": {},
   "outputs": [],
   "source": [
    "#makes sure they enter an integer\n",
    "def reminders():\n",
    "    print(\"Remember entry is a integer out of 100!\")"
   ]
  },
  {
   "cell_type": "code",
   "execution_count": 11,
   "id": "7b3af9e6-29f3-4760-b305-2d2e7b4678c7",
   "metadata": {},
   "outputs": [
    {
     "name": "stdout",
     "output_type": "stream",
     "text": [
      "1. Maths\n",
      "2. Science\n",
      "3. English\n",
      "E. Exit\n",
      "input your subject first: 1\n",
      "Remember entry is a integer out of 100!\n",
      "please enter your test result55\n",
      "Math Results\n",
      "This is all your results to date: \n",
      "[50, 60, 80, 90, 38, 87, 55, 41, 99, 2, 3, 1, 1, 1, 1, 1, 100, 80, 55]\n",
      "This is your score now:  55\n",
      "This is your previous score:  80\n",
      "This is your highest score:  100\n",
      "This is your lowest score:  1\n",
      "Let's guage your performance?\n",
      "You will need to do better next time\n"
     ]
    }
   ],
   "source": [
    "#this is where the magic happens\n",
    "\n",
    "print(\"1. Maths\")\n",
    "print(\"2. Science\")\n",
    "print(\"3. English\")\n",
    "print(\"E. Exit\")\n",
    "subject = input(\"input your subject first: \")\n",
    "\n",
    "if subject == \"1\":\n",
    "        reminders()\n",
    "        Maths = input(\"please enter your test result\")\n",
    "        print(\"Math Results\")\n",
    "        write_to_file(\"MathResults.csv\", Maths)\n",
    "        format_data(\"MathResults.csv\")\n",
    "        anlayse_data(\"MathResults.csv\")\n",
    "         #print(Maths)\n",
    "elif subject == \"2\":\n",
    "        reminders()\n",
    "        Science = input(\"please enter your test result\")\n",
    "        print(\"Science Results\")\n",
    "        write_to_file(\"ScienceResults.csv\", Science)\n",
    "        format_data(\"ScienceResults.csv\")\n",
    "        anlayse_data(\"ScienceResults.csv\")\n",
    "        #print(Science)\n",
    "elif subject == \"3\":\n",
    "        reminders()\n",
    "        English = input(\"please enter your test result\")\n",
    "        print(\"English Results\")\n",
    "        write_to_file(\"EnglishResults.csv\", English)\n",
    "        format_data(\"EnglishResults.csv\")\n",
    "        anlayse_data(\"EnglishResults.csv\")\n",
    "        #print(English)\n",
    "elif subject == \"e\" or Subject == \"E\":\n",
    "        print(\"program ended\")\n",
    "        quit()\n",
    "#print(result)\n",
    "#print(type(result))"
   ]
  },
  {
   "cell_type": "code",
   "execution_count": null,
   "id": "4fdd54e6-fda7-4cc6-8dad-d4258e5f1284",
   "metadata": {},
   "outputs": [],
   "source": []
  }
 ],
 "metadata": {
  "kernelspec": {
   "display_name": "Python 3 (ipykernel)",
   "language": "python",
   "name": "python3"
  },
  "language_info": {
   "codemirror_mode": {
    "name": "ipython",
    "version": 3
   },
   "file_extension": ".py",
   "mimetype": "text/x-python",
   "name": "python",
   "nbconvert_exporter": "python",
   "pygments_lexer": "ipython3",
   "version": "3.11.5"
  }
 },
 "nbformat": 4,
 "nbformat_minor": 5
}
